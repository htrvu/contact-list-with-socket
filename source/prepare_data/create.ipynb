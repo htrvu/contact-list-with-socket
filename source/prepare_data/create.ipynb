{
 "cells": [
  {
   "cell_type": "code",
   "execution_count": 1,
   "metadata": {},
   "outputs": [],
   "source": [
    "import json\n",
    "import os, sys\n",
    "from pathlib import Path\n",
    "import cv2"
   ]
  },
  {
   "cell_type": "code",
   "execution_count": 2,
   "metadata": {},
   "outputs": [],
   "source": [
    "male_image_path = 'male_large_image/'\n",
    "female_image_path = 'female_large_image/'\n",
    "male_small_image_path = 'male_small_image/'\n",
    "female_small_image_path = 'female_small_image/'"
   ]
  },
  {
   "cell_type": "code",
   "execution_count": 3,
   "metadata": {},
   "outputs": [],
   "source": [
    "male_image_list = os.listdir(male_image_path)\n",
    "female_image_list = os.listdir(female_image_path)"
   ]
  },
  {
   "cell_type": "code",
   "execution_count": null,
   "metadata": {},
   "outputs": [],
   "source": [
    "for path in male_image_list:\n",
    "\tabpath = os.path.join(male_image_path, path)\n",
    "\timg = cv2.imread(abpath, cv2.IMREAD_UNCHANGED)\n",
    "\timscaled = cv2.resize(img, (64, 64), interpolation = cv2.INTER_AREA)\n",
    "\tpath_to_save = os.path.join(male_small_image_path, path)\n",
    "\tcv2.imwrite(path_to_save, imscaled)\n",
    "\n",
    "for path in female_image_list:\n",
    "\tabpath = os.path.join(female_image_path, path)\n",
    "\timg = cv2.imread(abpath, cv2.IMREAD_UNCHANGED)\n",
    "\timscaled = cv2.resize(img, (64, 64), interpolation = cv2.INTER_AREA)\n",
    "\tpath_to_save = os.path.join(female_small_image_path, path)\n",
    "\tcv2.imwrite(path_to_save, imscaled)"
   ]
  },
  {
   "cell_type": "code",
   "execution_count": 4,
   "metadata": {},
   "outputs": [],
   "source": [
    "male_name_file = 'male.txt'\n",
    "female_name_file = 'female.txt'"
   ]
  },
  {
   "cell_type": "code",
   "execution_count": 8,
   "metadata": {},
   "outputs": [],
   "source": [
    "female_name_list = []\n",
    "male_name_list = []\n",
    "\n",
    "with open(male_name_file, 'r') as f:\n",
    "\tfor name in f.readlines():\n",
    "\t\tmale_name_list.append(name.strip())\n",
    "\n",
    "with open(female_name_file, 'r') as f:\n",
    "\tfor name in f.readlines():\n",
    "\t\tfemale_name_list.append(name.strip())"
   ]
  },
  {
   "cell_type": "code",
   "execution_count": 9,
   "metadata": {},
   "outputs": [
    {
     "name": "stdout",
     "output_type": "stream",
     "text": [
      "['Justine Jensen', 'Audrey Read', 'Wren Hopkins', 'Philippa Woods', 'Eugenia Weaver', 'Theodora Allen', 'Larissa Greenwood', 'Angela Hurlbutt', 'Zoe Pope', 'Honey Stokes', 'Cheryl Binder', 'Honey Wise', 'Bianca Payne', 'Lois Tomlinson', 'Angelica Osborne', 'Gina Jackson', 'Dawn Russell', 'Honey Larson', 'Unity Hutchinson', 'Yvette Adkins', 'Skye Santos', 'Diana Harper', 'Wynne Page', 'Jaylee Elliott', 'Tammy Stevens']\n",
      "['Hadley Lawson', 'Drake Herrera', 'Andrew Hunter', 'Bond Walton', 'Bailey Booth', 'Spike Norris', 'Leopold Dennis', 'Hadley Hewitt', 'Cary King', 'Brigham Lindsey', 'Virgil Wood', 'Albert Hardy', 'Oswald Potter', 'Alexis Barnett', 'Maynard Alvarado', 'Harry Love', 'Carl Jackson', 'Egbert Kirk', 'Hubert Farmer', 'Warwick Robbins', 'Colin Stone', 'Crispin Covington', 'Stanley Madron', 'Jake Goodwin', 'Shaun Hanson']\n"
     ]
    }
   ],
   "source": [
    "print(female_name_list)\n",
    "print(male_name_list)"
   ]
  },
  {
   "cell_type": "code",
   "execution_count": 10,
   "metadata": {},
   "outputs": [],
   "source": [
    "import shutil"
   ]
  },
  {
   "cell_type": "code",
   "execution_count": 11,
   "metadata": {},
   "outputs": [],
   "source": [
    "for i in range(0, len(male_name_list)):\n",
    "    new_file_name = male_name_list[i].strip().replace(' ', '_').lower()\n",
    "    shutil.move(os.path.join(male_image_path, male_image_list[i]), os.path.join(male_image_path, new_file_name))\n",
    "    shutil.move(os.path.join(male_small_image_path, male_image_list[i]), os.path.join(male_small_image_path, new_file_name))\n",
    "\n",
    "for i in range(0, len(female_name_list)):\n",
    "    new_file_name = female_name_list[i].strip().replace(' ', '_').lower()\n",
    "    shutil.move(os.path.join(female_image_path, female_image_list[i]), os.path.join(female_image_path, new_file_name))\n",
    "    shutil.move(os.path.join(female_small_image_path, female_image_list[i]), os.path.join(female_small_image_path, new_file_name))"
   ]
  },
  {
   "cell_type": "code",
   "execution_count": 12,
   "metadata": {},
   "outputs": [],
   "source": [
    "male_image_list = os.listdir(male_image_path)\n",
    "female_image_list = os.listdir(female_image_path)"
   ]
  },
  {
   "cell_type": "code",
   "execution_count": 13,
   "metadata": {},
   "outputs": [],
   "source": [
    "for file_name in male_image_list:\n",
    "    shutil.move(os.path.join(male_image_path, file_name), os.path.join(male_image_path, file_name + '.png'))\n",
    "\n",
    "for file_name in female_image_list:\n",
    "    shutil.move(os.path.join(female_image_path, file_name), os.path.join(female_image_path, file_name + '.png'))"
   ]
  },
  {
   "cell_type": "code",
   "execution_count": 18,
   "metadata": {},
   "outputs": [],
   "source": [
    "male_image_list = os.listdir(male_image_path)\n",
    "female_image_list = os.listdir(female_image_path)"
   ]
  },
  {
   "cell_type": "code",
   "execution_count": 14,
   "metadata": {},
   "outputs": [],
   "source": [
    "import random"
   ]
  },
  {
   "cell_type": "code",
   "execution_count": 15,
   "metadata": {},
   "outputs": [],
   "source": [
    "mail_type = ['@hcmus.edu.vn', '@fit.hcmus.edu.vn', '@student.hcmus.edu.vn', '@gmail.com', '@yahoo.com', '@outlook.com', '@cow360.onmicrosoft.com', '@gov.com', '@gameloftcom', '@garena.com', '@zalo.com']"
   ]
  },
  {
   "cell_type": "code",
   "execution_count": 16,
   "metadata": {},
   "outputs": [],
   "source": [
    "male_email_list = [name.lower().strip().replace(' ', random.choice(['_', ''])) + random.choice(['_', '.', '']) + str(random.randint(1, 100)) + random.choice(mail_type) for name in male_name_list]\n",
    "female_email_list = [name.lower().strip().replace(' ', random.choice(['_', ''])) + random.choice(['_', '.', '']) + str(random.randint(1, 100)) + random.choice(mail_type) for name in female_name_list]"
   ]
  },
  {
   "cell_type": "code",
   "execution_count": 17,
   "metadata": {},
   "outputs": [
    {
     "name": "stdout",
     "output_type": "stream",
     "text": [
      "['hadley_lawson5@hcmus.edu.vn', 'drake_herrera_60@garena.com', 'andrew_hunter51@cow360.onmicrosoft.com', 'bondwalton42@fit.hcmus.edu.vn', 'baileybooth76@student.hcmus.edu.vn', 'spikenorris60@hcmus.edu.vn', 'leopold_dennis_71@gmail.com', 'hadleyhewitt_50@hcmus.edu.vn', 'cary_king.87@fit.hcmus.edu.vn', 'brigham_lindsey_50@fit.hcmus.edu.vn', 'virgilwood_19@outlook.com', 'alberthardy.52@gov.com', 'oswaldpotter.36@student.hcmus.edu.vn', 'alexis_barnett69@zalo.com', 'maynard_alvarado.69@student.hcmus.edu.vn', 'harrylove.6@yahoo.com', 'carljackson_40@zalo.com', 'egbertkirk.96@outlook.com', 'hubertfarmer.36@hcmus.edu.vn', 'warwickrobbins35@fit.hcmus.edu.vn', 'colinstone.71@gov.com', 'crispin_covington.8@outlook.com', 'stanley_madron56@outlook.com', 'jake_goodwin.13@gov.com', 'shaun_hanson.22@gov.com']\n",
      "['justinejensen.46@hcmus.edu.vn', 'audrey_read.14@cow360.onmicrosoft.com', 'wren_hopkins_21@student.hcmus.edu.vn', 'philippa_woods_59@garena.com', 'eugeniaweaver.92@cow360.onmicrosoft.com', 'theodora_allen.81@hcmus.edu.vn', 'larissa_greenwood_53@fit.hcmus.edu.vn', 'angela_hurlbutt.15@yahoo.com', 'zoe_pope_45@zalo.com', 'honeystokes.36@hcmus.edu.vn', 'cherylbinder.24@student.hcmus.edu.vn', 'honey_wise50@outlook.com', 'biancapayne.44@yahoo.com', 'lois_tomlinson_64@zalo.com', 'angelica_osborne.32@student.hcmus.edu.vn', 'gina_jackson75@gov.com', 'dawnrussell6@outlook.com', 'honeylarson2@gmail.com', 'unityhutchinson87@cow360.onmicrosoft.com', 'yvette_adkins78@fit.hcmus.edu.vn', 'skye_santos42@hcmus.edu.vn', 'diana_harper_89@hcmus.edu.vn', 'wynnepage50@hcmus.edu.vn', 'jaylee_elliott_38@fit.hcmus.edu.vn', 'tammystevens30@gmail.com']\n"
     ]
    }
   ],
   "source": [
    "print(male_email_list)\n",
    "print(female_email_list)"
   ]
  },
  {
   "cell_type": "code",
   "execution_count": 57,
   "metadata": {},
   "outputs": [],
   "source": [
    "id_iterator = 1\n",
    "data_json = {}\n",
    "\n",
    "padding = '0'\n",
    "padding_to = 6\n",
    "id_prefix = 'C'\n",
    "\n",
    "for i in range(0, len(male_name_list)):\n",
    "    id = id_prefix + str(id_iterator).rjust(padding_to, padding)\n",
    "    phone_number = '0' + ''.join([random.choice(['0', '1', '2', '3', '4', '5', '6', '7', '8', '9']) for _ in range(0, 9)])\n",
    "    data_json[id] = {\n",
    "        'name' : male_name_list[i],\n",
    "        'email' : male_email_list[i],\n",
    "        'phone_number' : phone_number,\n",
    "        'image' : male_image_list[i], \n",
    "        'bio' : ''\n",
    "    }\n",
    "    id_iterator += 1\n",
    "\n",
    "for i in range(0, len(female_name_list)):\n",
    "    id = id_prefix + str(id_iterator).rjust(padding_to, padding)\n",
    "    phone_number = '0' + ''.join([random.choice(['0', '1', '2', '3', '4', '5', '6', '7', '8', '9']) for _ in range(0, 9)])\n",
    "    data_json[id] = {\n",
    "        'name' : female_name_list[i],\n",
    "        'email' : female_email_list[i],\n",
    "        'phone_number' : phone_number,\n",
    "        'image' : female_image_list[i], \n",
    "        'bio' : None\n",
    "    }\n",
    "    id_iterator += 1"
   ]
  },
  {
   "cell_type": "code",
   "execution_count": 58,
   "metadata": {},
   "outputs": [],
   "source": [
    "with open('contact_data.json', 'w', encoding='utf-8') as fp:\n",
    "    json.dump(data_json, fp, ensure_ascii=False, indent = 4)"
   ]
  }
 ],
 "metadata": {
  "interpreter": {
   "hash": "7279b7b48cf7844865ddb5ee91e76edb27f332b1a74c43bf313f56f79ede68e5"
  },
  "kernelspec": {
   "display_name": "Python 3.9.12 ('ndtran')",
   "language": "python",
   "name": "python3"
  },
  "language_info": {
   "codemirror_mode": {
    "name": "ipython",
    "version": 3
   },
   "file_extension": ".py",
   "mimetype": "text/x-python",
   "name": "python",
   "nbconvert_exporter": "python",
   "pygments_lexer": "ipython3",
   "version": "3.9.12"
  },
  "orig_nbformat": 4
 },
 "nbformat": 4,
 "nbformat_minor": 2
}
